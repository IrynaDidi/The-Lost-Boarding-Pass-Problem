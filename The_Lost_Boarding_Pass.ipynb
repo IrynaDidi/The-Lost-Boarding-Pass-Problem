{
 "cells": [
  {
   "cell_type": "markdown",
   "id": "6665a676",
   "metadata": {},
   "source": [
    "# Simulation of The Lost Boarding Puzzle using Monte Carlo\n",
    "#### Iryna Didinova\n",
    "100 people line up to board an airplane. Each has a boarding pass with assigned seat. However, the first person to board has lost his boarding pass and takes a random seat. After that, each person takes the assigned seat if it is unoccupied, and one of unoccupied seats at random otherwise. What is the probability that the last person to board gets to sit in his assigned seat?\n",
    "\n"
   ]
  },
  {
   "cell_type": "code",
   "execution_count": 11,
   "id": "14f0c671",
   "metadata": {},
   "outputs": [],
   "source": [
    "rm(list = ls())\n",
    "set.seed(123)\n",
    "\n",
    "# Create a data frame for simulation results\n",
    "results_airplane = data.frame(last_seats_in_assign_seat = 2:10001)"
   ]
  },
  {
   "cell_type": "code",
   "execution_count": 12,
   "id": "3ce92d85",
   "metadata": {},
   "outputs": [],
   "source": [
    "for( j in 1:10000){\n",
    "    people = sample(1:100) # Passengers\n",
    "    seats_random = sample(1:100) \n",
    "    seats_random_original = seats_random # Copy for check\n",
    "    tickets = sample(1:100) \n",
    "    seats_taken = 0 # A column of places that passengers will eventually occupy \n",
    "  \n",
    "    df = data.frame(people, tickets, seats_taken, seats_random,seats_random_original)\n",
    "  \n",
    "    df$tickets[1] = NA # The first passenger lost his ticket \n",
    "    df$seats_taken[1]=df$seats_random[1] # The first passenger chooses a seat at random \n",
    "    df$seats_random[1]=NA # No passenger will be able to occupy this seat \n",
    "  \n",
    "    for(i in 2:99){ # Passengers 2 to 99 \n",
    "    \n",
    "    # Legal seat of the passenger i is NOT occupied  \n",
    "        if(!(df$tickets[i] %in% df[1:(i-1),3])) {\n",
    "        df$seats_taken[i] = df$tickets[i]\n",
    "      # No passenger will be able to occupy this seat\n",
    "        df$seats_random[which(df$seats_random == df$tickets[i])]= NA\n",
    "      \n",
    "    # Legal seat of the passenger i is occupied\n",
    "        }else if (df$tickets[i] %in% df[1:(i-1),3]){\n",
    "      # That's why they sit on a random free place - we choose a random number from the vector of \n",
    "        #random seats and then delete this number \n",
    "        df$seats_taken[i] = sample(na.omit(df$seats_random),1)\n",
    "        df$seats_random[ which(df$seats_random == df$seats_taken[i])]= NA\n",
    "        \n",
    "        }else { # check\n",
    "        print(\"CRITICAL ERROR !!!!!\")\n",
    "        }\n",
    "    }\n",
    "    \n",
    "\n",
    "# If there is only 1 value left in the column \"seats_random\" \"sample (na.omit (df $ seats_random), 1)\n",
    "# does not select it but some random number from 1 to 100,\n",
    "# therefore I will use \"sum (na.omit (df $ seats_random))\" for the last person \n",
    "  \n",
    "  if(!(df$tickets[100] %in% df[1:100,3])) {\n",
    "    \n",
    "    df$seats_taken[100] = df$tickets[100]\n",
    "    df$seats_random[which(df$seats_random == df$tickets[100])]= NA\n",
    "    \n",
    "  }else if (df$tickets[100] %in% df[1:100,3]){\n",
    "    \n",
    "    df$seats_taken[100] = sum(na.omit(df$seats_random))\n",
    "    df$seats_random[ which(df$seats_random == df$seats_taken[100])]= NA\n",
    "  }else {\n",
    "    print(\"CRITICAL ERROR #1!!!!!\")\n",
    "  }\n",
    "  \n",
    "    \n",
    "    \n",
    "    ######################### Checks ########################\n",
    "# These checks helped me notice the errors in the code and fix them \n",
    "  \n",
    "  if (sum(duplicated(df$seats_taken)) >= 1){\n",
    "    print(\"CRITICAL ERROR: seats taken are not unique!!!!!!!\")\n",
    "  } #else{ print(\"Check 1 : OK!!!\")}\n",
    "  \n",
    "  if( sum(is.na(df$seats_taken))>= 1){\n",
    "    print(\"CRITICAL ERROR: NA in seats taken!!!!!!!!\")\n",
    "  } #else{ print(\"Check 2 : OK!!!\")}\n",
    "  \n",
    "  if(sum(df$seats_taken == 0) >=1){\n",
    "    print(\"CRITICAL ERROR: seats taken is NULL!!!!!!!!\")\n",
    "  }#else{ print(\"Check 3 : OK!!!\")}\n",
    "\n",
    "    \n",
    "    \n",
    "    ### Fill in the results_airplane table with probability estimates  ###\n",
    "  \n",
    "  if(df$tickets[100] == df$seats_taken[100]){\n",
    "    \n",
    "    results_airplane[j,1] <- 1 # The last passenger sits in his assigned seat \n",
    "  } else {\n",
    "    results_airplane[j,1] <- 0 # The last passenger does NO sit in his assigned seat \n",
    "  }\n",
    "}"
   ]
  },
  {
   "cell_type": "markdown",
   "id": "5992cdaa",
   "metadata": {},
   "source": [
    "## Final calculation of the probability estimate "
   ]
  },
  {
   "cell_type": "code",
   "execution_count": 13,
   "id": "36bb6959",
   "metadata": {},
   "outputs": [
    {
     "data": {
      "text/html": [
       "0.4966"
      ],
      "text/latex": [
       "0.4966"
      ],
      "text/markdown": [
       "0.4966"
      ],
      "text/plain": [
       "[1] 0.4966"
      ]
     },
     "metadata": {},
     "output_type": "display_data"
    }
   ],
   "source": [
    "mean(results_airplane$last_seats_in_assign_seat)  "
   ]
  },
  {
   "cell_type": "markdown",
   "id": "77d74759",
   "metadata": {},
   "source": [
    "1000 observations: result = 0.494 \\\n",
    "10 000 observations: result = 0.4966 \\\n",
    "With an observation of 10,000, I got an estimate of the probability that is almost equal to the theoretical value of 0.5. \n"
   ]
  }
 ],
 "metadata": {
  "kernelspec": {
   "display_name": "R",
   "language": "R",
   "name": "ir"
  },
  "language_info": {
   "codemirror_mode": "r",
   "file_extension": ".r",
   "mimetype": "text/x-r-source",
   "name": "R",
   "pygments_lexer": "r",
   "version": "3.6.1"
  }
 },
 "nbformat": 4,
 "nbformat_minor": 5
}
